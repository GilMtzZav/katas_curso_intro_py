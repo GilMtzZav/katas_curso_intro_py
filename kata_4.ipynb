{
 "cells": [
  {
   "cell_type": "markdown",
   "metadata": {},
   "source": [
    "<h1>Ejercicio 1: Transformar cadenas</h1>"
   ]
  },
  {
   "cell_type": "code",
   "execution_count": 44,
   "metadata": {},
   "outputs": [
    {
     "name": "stdout",
     "output_type": "stream",
     "text": [
      "\n",
      "On average, the Moon moves 4cm away from the Earth every year\n",
      "The highest daylight temperature of the Moon is 127 C.\n",
      "The highest daylight temperature of the Moon is 127 Celsius.\n"
     ]
    }
   ],
   "source": [
    "# El texto con el que trabajarás es el siguiente:\n",
    "text = '''Interesting facts about the Moon. The Moon is Earth's only satellite. There are several interesting facts about the Moon and how it affects life here on Earth. \n",
    "On average, the Moon moves 4cm away from the Earth every year. This yearly drift is not significant enough to cause immediate effects on Earth. The highest daylight temperature of the Moon is 127 C.'''\n",
    "\n",
    "# Primero, divide el texto en cada oración para trabajar con su contenido:\n",
    "frases = text.split(sep=\". \")\n",
    "\n",
    "# Ahora, define algunas palabras clave para búsqueda que te ayudarán a determinar si una oración contiene un hecho.\n",
    "palabras_claves = [\"average\", \"temperature\", \"distance\"]\n",
    "# Cre un bucle para imprimir solo datos sobre la Luna que estén relacionados con las palabras clave definidas anteriormente:\n",
    "for frase in frases:\n",
    "    for palabra_clave in palabras_claves:\n",
    "        if palabra_clave in frase:\n",
    "            print(frase)\n",
    "            break\n",
    "# Finalmente, actualiza el bucle(ciclo) para cambiar C a Celsius:\n",
    "for frase in frases:\n",
    "    if  frase.find(palabras_claves[1]) > -1:\n",
    "        print(frase.replace(\"C\", \"Celsius\"))\n",
    "        break"
   ]
  },
  {
   "cell_type": "markdown",
   "metadata": {},
   "source": [
    "<h1>Ejercicio 2: Formateando Cadenas</h1>\n",
    "\n",
    "<p>El resultado debería verse así:</p>\n",
    "<p>Gravity Facts about Ganymede</p>\n",
    "<p>-------------------------------------------------------------------------------</p>\n",
    "<p>Planet Name: Mars</p>\n",
    "<p>Gravity on Ganymede: 1.4300000000000002 m/s2</p>"
   ]
  },
  {
   "cell_type": "code",
   "execution_count": 9,
   "metadata": {},
   "outputs": [
    {
     "name": "stdout",
     "output_type": "stream",
     "text": [
      "Datos de gravedad sobre Earth\n",
      "-------------------------------------------------------------------------------- \n",
      "Nombre del planeta: Moon \n",
      "Gravedad en Earth: 1.6199999999999999 m/s2\n",
      "\n",
      "\n",
      "Datos de Gravedad sobre: Earth\n",
      "-------------------------------------------------------------------------------\n",
      "Nombre del planeta: Moon\n",
      "Gravedad en Earth: 0.00162 m/s2\n",
      "\n",
      "-------------------------------------------------------------------------------- \n",
      "Nombre del planeta: Moon \n",
      "Gravedad en Earth: 1.6199999999999999 m/s2\n",
      "\n"
     ]
    }
   ],
   "source": [
    "# Datos con los que vamos a trabajar\n",
    "\n",
    "planeta = 'Moon'\n",
    "gravedad  = 0.00162\n",
    "nombre = 'Earth'\n",
    "\n",
    "# Creamos el título\n",
    "titulo = f\"Datos de gravedad sobre {nombre}\"\n",
    "\n",
    "# Creamos la plantilla\n",
    "plantilla = f\"\"\"{'-' * 80} \n",
    "Nombre del planeta: {planeta} \n",
    "Gravedad en {nombre}: {gravedad * 1000} m/s2\n",
    "\"\"\"\n",
    "# Unión de ambas cadenas\n",
    "print(titulo + \"\\n\" + plantilla)\n",
    "\n",
    "# Nuevos datos muestra\n",
    "planeta = 'Marte '\n",
    "gravedad  = 0.00143\n",
    "nombre = 'Ganímedes'\n",
    "\n",
    "nueva_cadena = \"\"\n",
    "nueva_cadena = \"\"\"\n",
    "Datos de Gravedad sobre: {nombre}\n",
    "-------------------------------------------------------------------------------\n",
    "Nombre del planeta: {planeta}\n",
    "Gravedad en {nombre}: {gravedad} m/s2\n",
    "\"\"\"\n",
    "\n",
    "# Comprobamos la plantilla\n",
    "print(nueva_cadena.format(nombre = nombre, planeta=planeta, gravedad=gravedad))\n",
    "\n",
    "planeta = 'Marte '\n",
    "gravedad  = 0.00143\n",
    "nombre = 'Ganímedes'\n",
    "\n",
    "# Comprueba la plantilla\n",
    "# print(nombre_plantilla)"
   ]
  }
 ],
 "metadata": {
  "interpreter": {
   "hash": "654d77f036fd8c3ca1227274b59e77165a99ebc05e0a2d857f23c94b071b7712"
  },
  "kernelspec": {
   "display_name": "Python 3.9.9 ('env': venv)",
   "language": "python",
   "name": "python3"
  },
  "language_info": {
   "codemirror_mode": {
    "name": "ipython",
    "version": 3
   },
   "file_extension": ".py",
   "mimetype": "text/x-python",
   "name": "python",
   "nbconvert_exporter": "python",
   "pygments_lexer": "ipython3",
   "version": "3.9.9"
  },
  "orig_nbformat": 4
 },
 "nbformat": 4,
 "nbformat_minor": 2
}
