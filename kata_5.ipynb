{
 "cells": [
  {
   "cell_type": "markdown",
   "metadata": {},
   "source": [
    "<h1>Ejercicio1 - Utilizar operadores aritméticos</h1>\n",
    "<h2>Operadores aritméticos en Python</h2>\n",
    "<p>Exploremos cómo podemos crear un programa que pueda calcular la distancia entre dos planetas. Comenzaremos usando dos distancias de planetas: Tierra (149.597.870 km) y Júpiter (778.547.200 km).</p>"
   ]
  },
  {
   "cell_type": "code",
   "execution_count": 5,
   "metadata": {},
   "outputs": [
    {
     "name": "stdout",
     "output_type": "stream",
     "text": [
      "628949330\n",
      "390577534\n"
     ]
    }
   ],
   "source": [
    "from math import ceil\n",
    "# Crear variables para almacenar las dos distancias\n",
    "distancia_tierra = 149597870\n",
    "distancia_jupiter = 778547200\n",
    "MILLAS = 0.621\n",
    "# ¡Asegúrate de quitar las comas!\n",
    "# Calcular la distancia entre planetas\n",
    "distancia_jup_tierra = abs(distancia_jupiter - distancia_tierra)\n",
    "print(distancia_jup_tierra)\n",
    "distancia_jup_tierra *= MILLAS\n",
    "print(f\"{ceil(distancia_jup_tierra)}\")"
   ]
  },
  {
   "cell_type": "markdown",
   "metadata": {},
   "source": [
    "<h1>Ejercicio 2: convierte cadenas en números y usa valores absolutos</h1>\n",
    "<h2>Crear una aplicación para trabajar con números y entrada de usuario</h2>\n",
    "<p>Usando input, agrega el código para leer la distancia del sol para cada planeta, considerando 2 planetas.</p>"
   ]
  },
  {
   "cell_type": "code",
   "execution_count": 6,
   "metadata": {},
   "outputs": [
    {
     "name": "stdout",
     "output_type": "stream",
     "text": [
      "31236300.0\n"
     ]
    }
   ],
   "source": [
    "planetas = {\"Mercurio\":\t57900000, \"Venus\": 108200000, \"Tierra\":\t149600000, \"Marte\":\t227900000, \"Júpiter\": 778600000, \"Saturno\":\t1433500000, \"Urano\":2872500000, \"Neptuno\": 4495100000}\n",
    "# Almacenar las entradas del usuario\n",
    "planeta_1 = int(input(\"Introduce la distancia del sol del primer planeta (km): \"))\n",
    "planeta_2 = int(input(\"Introduce la distancia del sol del segundo planeta (km): \"))\n",
    "\n",
    "# Realizar el cálculo y determinar el valor absoluto\n",
    "distancia_km = abs(planeta_1 - planeta_2)\n",
    "# Convertir de KM a Millas\n",
    "distancia_millas = distancia_km * 0.621\n",
    "print(distancia_millas)\n"
   ]
  }
 ],
 "metadata": {
  "interpreter": {
   "hash": "654d77f036fd8c3ca1227274b59e77165a99ebc05e0a2d857f23c94b071b7712"
  },
  "kernelspec": {
   "display_name": "Python 3.9.9 ('env': venv)",
   "language": "python",
   "name": "python3"
  },
  "language_info": {
   "codemirror_mode": {
    "name": "ipython",
    "version": 3
   },
   "file_extension": ".py",
   "mimetype": "text/x-python",
   "name": "python",
   "nbconvert_exporter": "python",
   "pygments_lexer": "ipython3",
   "version": "3.9.9"
  },
  "orig_nbformat": 4
 },
 "nbformat": 4,
 "nbformat_minor": 2
}
