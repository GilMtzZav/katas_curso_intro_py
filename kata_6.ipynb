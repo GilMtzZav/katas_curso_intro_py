{
 "cells": [
  {
   "cell_type": "markdown",
   "metadata": {},
   "source": [
    "<h1>Ejercicio1: Crear y usar listas de Python</h1>\n",
    "<h2>Ejercicio: Usar listas para almacenar nombres de planetas<h2>"
   ]
  },
  {
   "cell_type": "code",
   "execution_count": 1,
   "metadata": {},
   "outputs": [
    {
     "name": "stdout",
     "output_type": "stream",
     "text": [
      "['mercurio', 'venus', 'tierra', 'marte', 'jupiter', 'saturno', 'urano', 'neptuno', 'plutón']\n"
     ]
    }
   ],
   "source": [
    "# En primer lugar, crea una variable denominada planets. Agrega los ocho planetas (sin Plutón) a la lista. A continuación, muestra el número de planetas\n",
    "planets = [\"mercurio\", \"venus\", \"tierra\", \"marte\", \"jupiter\", \"saturno\", \"urano\", \"neptuno\"]\n",
    "\n",
    "# Agregamos a plutón y mostramos el último elemento\n",
    "planets.append(\"plutón\")\n",
    "print(planets)"
   ]
  },
  {
   "cell_type": "markdown",
   "metadata": {},
   "source": [
    "<h1>Ejercicio 2: Trabajando con datos de una lista</h1>\n",
    "<h2>Usar slices para recuperar partes de una lista</h2>"
   ]
  },
  {
   "cell_type": "code",
   "execution_count": 13,
   "metadata": {},
   "outputs": [
    {
     "name": "stdout",
     "output_type": "stream",
     "text": [
      "[]\n",
      "['Venus', 'Earth', 'Mars', 'Jupiter', 'Saturn', 'Neptune']\n"
     ]
    }
   ],
   "source": [
    "# Lista de planetas\n",
    "planets = ['Mercury', 'Venus', 'Earth', 'Mars', 'Jupiter', 'Saturn', 'Neptune']\n",
    "\n",
    "# Solicitamos el nombre de un planeta *Pista:  input()*\n",
    "planeta_usuario = input(\"Ingrese el nombre de un planeta: \").title()\n",
    "\n",
    "\n",
    "# Busca el planeta en la lista\n",
    "planeta_usuario = planets.index(planeta_usuario)\n",
    "\n",
    "# Muestra los planetas más cercanos al sol\n",
    "print(planets[:planeta_usuario])\n",
    "\n",
    "# Muestra los planetas más lejanos al sol\n",
    "print(planets[planeta_usuario+1:])"
   ]
  }
 ],
 "metadata": {
  "interpreter": {
   "hash": "654d77f036fd8c3ca1227274b59e77165a99ebc05e0a2d857f23c94b071b7712"
  },
  "kernelspec": {
   "display_name": "Python 3.9.9 ('env': venv)",
   "language": "python",
   "name": "python3"
  },
  "language_info": {
   "codemirror_mode": {
    "name": "ipython",
    "version": 3
   },
   "file_extension": ".py",
   "mimetype": "text/x-python",
   "name": "python",
   "nbconvert_exporter": "python",
   "pygments_lexer": "ipython3",
   "version": "3.9.9"
  },
  "orig_nbformat": 4
 },
 "nbformat": 4,
 "nbformat_minor": 2
}
