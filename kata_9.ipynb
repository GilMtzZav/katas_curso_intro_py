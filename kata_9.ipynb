{
 "cells": [
  {
   "cell_type": "markdown",
   "metadata": {},
   "source": [
    "<h1>Ejercicio: Uso de funciones en Python</h1>\n",
    "<h2>Ejercicio 1: Trabajar con argumentos en funciones</h2>"
   ]
  },
  {
   "cell_type": "code",
   "execution_count": 11,
   "metadata": {},
   "outputs": [
    {
     "name": "stdout",
     "output_type": "stream",
     "text": [
      "Promedio: 366.6666666666667, tanque 1: 200, tanque 2: 400, tanque 3: 500\n",
      "Promedio: 366.6666666666667, tanque 1: 200, tanque 2: 400, tanque 3: 500\n"
     ]
    }
   ],
   "source": [
    "# Función para leer 3 tanques de combustible y muestre el promedio\n",
    "def promedio_combustible(val_1, val_2, val_3):\n",
    "    total = val_1 + val_2 + val_3\n",
    "    promedio = total / 3\n",
    "    return f\"Promedio: {promedio}, tanque 1: {val_1}, tanque 2: {val_2}, tanque 3: {val_3}\"\n",
    "\n",
    "def promedio(val_1, val_2, val_3):\n",
    "    total = val_1 + val_2 + val_3\n",
    "    promedio = total / 3\n",
    "    return promedio\n",
    "\n",
    "print(promedio_combustible(200, 400, 500))\n",
    "promedio(200, 400, 500)\n",
    "\n",
    "# Actualiza la función\n",
    "def nuevo_reporte(val_1, val_2, val_3):\n",
    "    return f\"Promedio: {promedio(val_1, val_2, val_3)}, tanque 1: {val_1}, tanque 2: {val_2}, tanque 3: {val_3}\"\n",
    "    \n",
    "print(nuevo_reporte(200, 400, 500))\n"
   ]
  },
  {
   "cell_type": "markdown",
   "metadata": {},
   "source": [
    "<h1>Ejercicio 2: Trabajo con argumentos de palabra clave</h1>\n",
    "<h2>Ejercicio : Trabajar con argumentos de palabras clave en funciones</h2>"
   ]
  },
  {
   "cell_type": "code",
   "execution_count": 3,
   "metadata": {},
   "outputs": [
    {
     "name": "stdout",
     "output_type": "stream",
     "text": [
      "s\n",
      "    Mission to Moon\n",
      "    Total travel time: 65 minutes\n",
      "    Total fuel left: 500000 gallons\n",
      "s\n",
      "    Mission to Moon\n",
      "    Total travel time: 74 minutes\n",
      "    Total fuel left: 500000 gallons\n",
      "\n",
      "    Mission to Moon\n",
      "    Total travel time: 74 minutes\n",
      "    Total fuel left: 500000\n",
      "    main tank --> 300000 gallons left\n",
      "external tank --> 200000 gallons left\n",
      "\n"
     ]
    }
   ],
   "source": [
    "# Función con un informe preciso de la misión. Considera hora de prelanzamiento, tiempo de vuelo, destino, tanque externo y tanque interno\n",
    "def informe(hora_pre, tiempo_vuelo, destino, tanque_externo, tanque_princial):\n",
    "    return f\"\"\"s\n",
    "    Mission to {destino}\n",
    "    Total travel time: {hora_pre + tiempo_vuelo} minutes\n",
    "    Total fuel left: {tanque_externo + tanque_princial} gallons\"\"\"\n",
    "\n",
    "print(informe(14, 51, \"Moon\", 200000, 300000))\n",
    "\n",
    "# Escribe tu nueva función de reporte considerando lo anterior\n",
    "def informe(destino, *minutes,**fuel_reservoirs):\n",
    "    return f\"\"\"s\n",
    "    Mission to {destino}\n",
    "    Total travel time: {sum(minutes)} minutes\n",
    "    Total fuel left: {sum(fuel_reservoirs.values())} gallons\"\"\"\n",
    "\n",
    "print(informe(\"Moon\",8, 11, 55, tanq_ext=200000, tanq_prin=300000))\n",
    "\n",
    "\n",
    "\n",
    "# Escribe tu nueva función\n",
    "\n",
    "def mission_report(destination, *minutes, **fuel_reservoirs):\n",
    "    main_report = f\"\"\"\n",
    "    Mission to {destination}\n",
    "    Total travel time: {sum(minutes)} minutes\n",
    "    Total fuel left: {sum(fuel_reservoirs.values())}\n",
    "    \"\"\"\n",
    "    for tank_name, gallons in fuel_reservoirs.items():\n",
    "        main_report += f\"{tank_name} tank --> {gallons} gallons left\\n\"\n",
    "    return main_report\n",
    "\n",
    "print(mission_report(\"Moon\", 8, 11, 55, main=300000, external=200000))"
   ]
  }
 ],
 "metadata": {
  "interpreter": {
   "hash": "654d77f036fd8c3ca1227274b59e77165a99ebc05e0a2d857f23c94b071b7712"
  },
  "kernelspec": {
   "display_name": "Python 3.9.9 ('env': venv)",
   "language": "python",
   "name": "python3"
  },
  "language_info": {
   "codemirror_mode": {
    "name": "ipython",
    "version": 3
   },
   "file_extension": ".py",
   "mimetype": "text/x-python",
   "name": "python",
   "nbconvert_exporter": "python",
   "pygments_lexer": "ipython3",
   "version": "3.9.9"
  },
  "orig_nbformat": 4
 },
 "nbformat": 4,
 "nbformat_minor": 2
}
