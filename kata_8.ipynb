{
 "cells": [
  {
   "cell_type": "markdown",
   "metadata": {},
   "source": [
    "<h1>Ejercicio 1: Creación de diccionarios de Python</h1>\n",
    "<h2>Ejercicio: Crear y modificar un diccionario de Python</h2>\n",
    "\n",
    "<p>Agrega el código para crear un nuevo diccionario denominado 'planet'. Rellena con la siguiente información:</p>\n",
    "<p>name: Mars</p>\n",
    "<p>moons: 2</p>"
   ]
  },
  {
   "cell_type": "code",
   "execution_count": 5,
   "metadata": {},
   "outputs": [
    {
     "name": "stdout",
     "output_type": "stream",
     "text": [
      "Mars tiene 2 lunas\n",
      "Mars tiene 6752 circunferencia polar\n"
     ]
    }
   ],
   "source": [
    "# Crea un diccionario llamado planet con los datos propuestos\n",
    "planet = {'name':'Mars', 'moons':2}\n",
    "\n",
    "# Muestra el nombre del planeta y el número de lunas que tiene.\n",
    "print(f\"{planet.get('name')} tiene {planet.get('moons')} lunas\")\n",
    "\n",
    "\n",
    "# Agrega un nuevo valor con una clave de 'circunferencia (km)'. Este nuevo valor debería almacenar un diccionario con las dos circunferencias del planeta:\n",
    "\n",
    "# polar: 6752\n",
    "# equatorial: 6792\n",
    "\n",
    "# Agrega la clave circunferencia con los datos proporcionados previamente\n",
    "planet['circunferencia'] = {'polar': 6752,'equatorial': 6792}\n",
    "\n",
    "# Imprime el nombre del planeta con su circunferencia polar.\n",
    "print(f\"{planet.get('name')} tiene {planet['circunferencia']['polar']} circunferencia polar\")"
   ]
  },
  {
   "cell_type": "markdown",
   "metadata": {},
   "source": [
    "<h1>Ejercicio 2: Programación dinámica con diccionarios</h1>\n",
    "<h2>Ejercicio: Cálculo de valores</h2>\n",
    "\n",
    "<p>En este escenario, calcularás tanto el número total de lunas en el sistema solar como el número promedio de lunas que tiene un planeta</p>\n"
   ]
  },
  {
   "cell_type": "code",
   "execution_count": 10,
   "metadata": {},
   "outputs": [
    {
     "name": "stdout",
     "output_type": "stream",
     "text": [
      "Total de lunas: 214. Promedio de lunas: 17.833333333333332\n"
     ]
    }
   ],
   "source": [
    "# Planets and moons\n",
    "planet_moons = {\n",
    "    'mercury': 0,\n",
    "    'venus': 0,\n",
    "    'earth': 1,\n",
    "    'mars': 2,\n",
    "    'jupiter': 79,\n",
    "    'saturn': 82,\n",
    "    'uranus': 27,\n",
    "    'neptune': 14,\n",
    "    'pluto': 5,\n",
    "    'haumea': 2,\n",
    "    'makemake': 1,\n",
    "    'eris': 1\n",
    "}\n",
    "\n",
    "total_planetas = len(planet_moons)\n",
    "# Añade el código para determinar el número de lunas.\n",
    "moons = 0\n",
    "\n",
    "lista_moons = planet_moons.values()\n",
    "\n",
    "for moon in lista_moons:\n",
    "    moons += moon \n",
    "\n",
    "promedio_lunas = moons / len(lista_moons)\n",
    "# print(f\"Total de lunas: {moons}. Promedio de lunas: {promedio_lunas}\")"
   ]
  }
 ],
 "metadata": {
  "interpreter": {
   "hash": "654d77f036fd8c3ca1227274b59e77165a99ebc05e0a2d857f23c94b071b7712"
  },
  "kernelspec": {
   "display_name": "Python 3.9.9 ('env': venv)",
   "language": "python",
   "name": "python3"
  },
  "language_info": {
   "codemirror_mode": {
    "name": "ipython",
    "version": 3
   },
   "file_extension": ".py",
   "mimetype": "text/x-python",
   "name": "python",
   "nbconvert_exporter": "python",
   "pygments_lexer": "ipython3",
   "version": "3.9.9"
  },
  "orig_nbformat": 4
 },
 "nbformat": 4,
 "nbformat_minor": 2
}
